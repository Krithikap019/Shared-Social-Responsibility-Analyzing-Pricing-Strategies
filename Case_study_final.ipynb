{
 "cells": [
  {
   "cell_type": "markdown",
   "metadata": {},
   "source": [
    "# MGTA453 Case Study 2 - Shared Social Responsibility"
   ]
  },
  {
   "cell_type": "code",
   "execution_count": 57,
   "metadata": {},
   "outputs": [],
   "source": [
    "from scipy import stats\n",
    "import pandas as pd\n",
    "import numpy as np\n",
    "import pyrsm as rsm"
   ]
  },
  {
   "cell_type": "code",
   "execution_count": 58,
   "metadata": {},
   "outputs": [],
   "source": [
    "df1 = pd.read_csv('Sales.csv')\n",
    "df = pd.read_csv('NYOP.csv')"
   ]
  },
  {
   "cell_type": "markdown",
   "metadata": {},
   "source": [
    "## Flat Rate Pricing"
   ]
  },
  {
   "cell_type": "markdown",
   "metadata": {},
   "source": [
    "#### Null Hypothesis (H0):\n",
    "The null hypothesis states that there is no difference between the proportion of purchases under the two pricing conditions.\n",
    "    p_FR = p_FR_Charity\n",
    "​\n",
    "#### Alternative Hypothesis (Ha):\n",
    "The alternative hypothesis states that there is a difference between the two proportions\n",
    "    p_FR != p_FR_Charity"
   ]
  },
  {
   "cell_type": "code",
   "execution_count": 59,
   "metadata": {},
   "outputs": [
    {
     "name": "stdout",
     "output_type": "stream",
     "text": [
      "a. Null Hypothesis: No difference in the proportion of purchases ( Ho: p1 = p2)\n",
      "   Alternate Hypothesis: There is a difference in the proportion of purchases ( Ho: p1 != p2)\n",
      "b. z_stat : -1.5264554280529021\n",
      "c. p_value : 0.12689648269385967\n",
      "d. At the 0.05 significance level, we accept null hypothesis. There is No difference in the proportion of purchases ( Ho: p1 != p2) \n"
     ]
    }
   ],
   "source": [
    "# Question a\n",
    "\n",
    "Null_hypothesis = \"No difference in the proportion of purchases ( Ho: p1 = p2)\"\n",
    "Alternate_hypothesis = \"There is a difference in the proportion of purchases ( Ho: p1 != p2)\"\n",
    "\n",
    "print('a. Null Hypothesis:', Null_hypothesis)\n",
    "print('   Alternate Hypothesis:', Alternate_hypothesis)\n",
    "\n",
    "# Question b\n",
    "\n",
    "# total number of purchases (NumberSold)\n",
    "FR_sold = df1[df1['Condition'] == 'FR']['NumberSold'].sum()\n",
    "FR_Charity_sold  = df1[df1['Condition'] == 'FR Charity']['NumberSold'].sum()\n",
    "\n",
    "# total number of riders (Riders) for each condition\n",
    "FR_riders = df1[df1['Condition'] == 'FR']['Riders'].sum()\n",
    "FR_Charity_riders = df1[df1['Condition'] == 'FR Charity']['Riders'].sum()\n",
    "\n",
    "# Calculate proportions for FR and FR Charity\n",
    "p1 = FR_sold / FR_riders  # Proportion for FR\n",
    "p2 = FR_Charity_sold/ FR_Charity_riders  # Proportion for FR Charity\n",
    "\n",
    "# Sample sizes (total riders)\n",
    "n1 = FR_riders\n",
    "n2 = FR_Charity_riders\n",
    "\n",
    "x = (p1*(1-p1))/n1\n",
    "y = (p2*(1-p2))/n2\n",
    "\n",
    "z_stat = (p1-p2)/ np.sqrt(x+y)\n",
    "print(\"b. z_stat :\", z_stat)\n",
    "\n",
    "# Question c\n",
    "p_value = 2 * (1 - stats.norm.cdf(abs(z_stat)))\n",
    "print(\"c. p_value :\", p_value)\n",
    "\n",
    "# Question d\n",
    "\n",
    "alpha = 0.05 #Significance level\n",
    "if p_value < alpha:\n",
    "    print(f\"d. At the {alpha} significance level, we reject null hypothesis. There is a difference in the proportion of purchases ( Ho: p1 = p2) \")\n",
    "else:\n",
    "    print(f\"d. At the {alpha} significance level, we accept null hypothesis. There is No difference in the proportion of purchases ( Ho: p1 != p2) \")"
   ]
  },
  {
   "cell_type": "markdown",
   "metadata": {},
   "source": [
    "## NYOP Pricing"
   ]
  },
  {
   "cell_type": "markdown",
   "metadata": {},
   "source": [
    "### Part 1"
   ]
  },
  {
   "cell_type": "markdown",
   "metadata": {},
   "source": [
    "#### Null Hypothesis (H0):\n",
    "The null hypothesis states that there is no difference between the proportion of purchases under the two pricing conditions.\n",
    "    p_NYOP = p_NYOP_Charity\n",
    "​\n",
    "#### Alternative Hypothesis (Ha):\n",
    "The alternative hypothesis states that there is a difference between the two proportions\n",
    "    p_NYOP != p_NYOP_Charity"
   ]
  },
  {
   "cell_type": "code",
   "execution_count": 60,
   "metadata": {},
   "outputs": [
    {
     "name": "stdout",
     "output_type": "stream",
     "text": [
      "a. Null Hypothesis: No difference in the proportion of purchases ( Ho: p1 = p2)\n",
      "   Alternate Hypothesis: There is a difference in the proportion of purchases ( Ho: p1 != p2)\n",
      "b. z_stat : 22.749707261972425\n",
      "c. p_value : 0.0\n",
      "d. At the 0.05 significance level, we reject null hypothesis. There is a difference in the proportion of purchases ( Ho: p1 = p2) \n"
     ]
    }
   ],
   "source": [
    "# Question a\n",
    "\n",
    "Null_hypothesis = \"No difference in the proportion of purchases ( Ho: p1 = p2)\"\n",
    "Alternate_hypothesis = \"There is a difference in the proportion of purchases ( Ho: p1 != p2)\"\n",
    "\n",
    "print('a. Null Hypothesis:', Null_hypothesis)\n",
    "print('   Alternate Hypothesis:', Alternate_hypothesis)\n",
    "\n",
    "# Question b\n",
    "\n",
    "# total number of purchases (NumberSold)\n",
    "NYOP_sold = df1[df1['Condition'] == 'NYOP']['NumberSold'].sum()\n",
    "NYOP_Charity_sold  = df1[df1['Condition'] == 'NYOP Charity']['NumberSold'].sum()\n",
    "\n",
    "# total number of riders (Riders) for each condition\n",
    "NYOP_riders = df1[df1['Condition'] == 'NYOP']['Riders'].sum()\n",
    "NYOP_Charity_riders = df1[df1['Condition'] == 'NYOP Charity']['Riders'].sum()\n",
    "\n",
    "# Calculate proportions for NYOP and NYOP Charity\n",
    "p1 = NYOP_sold / NYOP_riders  # Proportion for NYOP\n",
    "p2 = NYOP_Charity_sold/ NYOP_Charity_riders  # Proportion for NYOP Charity\n",
    "\n",
    "# Sample sizes (total riders)\n",
    "n1 = NYOP_riders\n",
    "n2 = NYOP_Charity_riders\n",
    "\n",
    "x = (p1*(1-p1))/n1\n",
    "y = (p2*(1-p2))/n2\n",
    "\n",
    "z_stat = (p1-p2)/ np.sqrt(x+y)\n",
    "print(\"b. z_stat :\", z_stat)\n",
    "\n",
    "# Question c\n",
    "p_value = 2 * (1 - stats.norm.cdf(abs(z_stat)))\n",
    "print(\"c. p_value :\", p_value)\n",
    "\n",
    "# Question d\n",
    "\n",
    "alpha = 0.05 #Significance level\n",
    "if p_value < alpha:\n",
    "    print(f\"d. At the {alpha} significance level, we reject null hypothesis. There is a difference in the proportion of purchases ( Ho: p1 = p2) \")\n",
    "else:\n",
    "    print(f\"d. At the {alpha} significance level, we accept null hypothesis. There is No difference in the proportion of purchases ( Ho: p1 != p2) \")\n",
    "    \n"
   ]
  },
  {
   "cell_type": "markdown",
   "metadata": {},
   "source": [
    "### Part 2"
   ]
  },
  {
   "cell_type": "code",
   "execution_count": 61,
   "metadata": {},
   "outputs": [],
   "source": [
    "#a.\n",
    "df['UnitPrice'] = df['Price'] / df['Number']\n",
    "df['Number'] = df['Number'].astype('category')\n"
   ]
  },
  {
   "cell_type": "code",
   "execution_count": 62,
   "metadata": {},
   "outputs": [],
   "source": [
    "#b.\n",
    "import matplotlib.pyplot as plt\n",
    "import seaborn as sns"
   ]
  },
  {
   "cell_type": "code",
   "execution_count": 63,
   "metadata": {},
   "outputs": [
    {
     "data": {
      "text/plain": [
       "Text(0.5, 1.0, 'Box Plot of UnitPrice vs Number')"
      ]
     },
     "execution_count": 63,
     "metadata": {},
     "output_type": "execute_result"
    },
    {
     "data": {
      "image/png": "[encoded data removed]",
      "text/plain": [
       "<Figure size 1200x600 with 2 Axes>"
      ]
     },
     "metadata": {},
     "output_type": "display_data"
    }
   ],
   "source": [
    "plt.figure(figsize=(12, 6))\n",
    "plt.subplot(1, 2, 1)\n",
    "sns.boxplot(x='Number', y='Price', data = df)\n",
    "plt.title('Box Plot of Price vs Number')\n",
    "\n",
    "plt.subplot(1, 2, 2)\n",
    "sns.boxplot(x='Number', y='UnitPrice', data = df)\n",
    "plt.title('Box Plot of UnitPrice vs Number')"
   ]
  },
  {
   "cell_type": "markdown",
   "metadata": {},
   "source": [
    "b. \n",
    "\n",
    "For each number of photos purchased, the median price remains relatively consistent. However, the interquartile range seems to increase slightly for larger numbers of photos purchased.\n",
    "There are multiple outliers present at higher prices, particularly for smaller numbers of photos purchased. This suggests that while the majority of riders are choosing lower prices, a few are willing to pay significantly more.\n",
    "\n",
    "As the number of photos purchased increases, the median unit price decreases.\n",
    "The variation in UnitPrice is more prominent when the number of photos is small. As the number of photos increases, the variability in UnitPrice decreases. There are fewer outliers for higher numbers of photos, indicating more consistent pricing behavior.\n",
    "\n",
    "The plots suggest that participants who buy more photos tend to pay lower prices per photo. Additionally, the presence of significant outliers in both plots indicates variability in what riders are willing to pay."
   ]
  },
  {
   "cell_type": "code",
   "execution_count": 64,
   "metadata": {},
   "outputs": [
    {
     "name": "stdout",
     "output_type": "stream",
     "text": [
      "Average Unit Price for NYOP: 1.0404387568555757\n",
      "Average Unit Price for NYOP Charity: 5.6804804392587505\n"
     ]
    }
   ],
   "source": [
    "#c.\n",
    "from scipy import stats\n",
    "\n",
    "nyop_avg = df[df['Condition'] == 'NYOP']['UnitPrice'].mean()\n",
    "charity_avg = df[df['Condition'] == 'NYOP Charity']['UnitPrice'].mean()\n",
    "\n",
    "print(f\"Average Unit Price for NYOP: {nyop_avg}\")\n",
    "print(f\"Average Unit Price for NYOP Charity: {charity_avg}\")"
   ]
  },
  {
   "cell_type": "code",
   "execution_count": 65,
   "metadata": {},
   "outputs": [
    {
     "name": "stdout",
     "output_type": "stream",
     "text": [
      "T-statistic: -36.67572819347889\n",
      "P-value: 3.954550853548612e-216\n"
     ]
    }
   ],
   "source": [
    "nyop_prices = df[df['Condition'] == 'NYOP']['UnitPrice']\n",
    "charity_prices = df[df['Condition'] == 'NYOP Charity']['UnitPrice']\n",
    "\n",
    "t_stat, p_value = stats.ttest_ind(nyop_prices, charity_prices, equal_var = False)\n",
    "\n",
    "print(f\"T-statistic: {t_stat}\")\n",
    "print(f\"P-value: {p_value}\")"
   ]
  },
  {
   "cell_type": "code",
   "execution_count": 66,
   "metadata": {},
   "outputs": [
    {
     "name": "stdout",
     "output_type": "stream",
     "text": [
      "The difference in average unit prices is statistically significant.\n"
     ]
    }
   ],
   "source": [
    "if p_value < 0.05:\n",
    "    print(\"The difference in average unit prices is statistically significant.\")\n",
    "else:\n",
    "    print(\"The difference in average unit prices is not statistically significant.\")"
   ]
  },
  {
   "cell_type": "markdown",
   "metadata": {},
   "source": [
    "d. \n",
    "\n",
    "Null Hypothesis (Ho): The average unit prices for NYOP and NYOP Charity are the same.\n",
    "\n",
    "Alternative Hypothesis (Ha): The average unit prices for NYOP and NYOP Charity are different."
   ]
  },
  {
   "cell_type": "code",
   "execution_count": 67,
   "metadata": {},
   "outputs": [
    {
     "name": "stdout",
     "output_type": "stream",
     "text": [
      "Pairwise mean comparisons (t-test)\n",
      "Data      : nyop\n",
      "Variables : Condition, Price\n",
      "Samples   : independent\n",
      "Confidence: 0.95\n",
      "Adjustment: None\n",
      "   Condition  mean    n  n_missing    sd    se    me\n",
      "        NYOP 1.326 1641          0 1.622 0.040 0.079\n",
      "NYOP Charity 6.600 1457          0 5.586 0.146 0.287\n",
      "          Null hyp.                      Alt. hyp.   diff p.value    se  t.value       df   2.5%  97.5%    \n",
      "NYOP = NYOP Charity NYOP not equal to NYOP Charity -5.274  < .001 0.152  -34.765 1673.816 -5.572 -4.977 ***\n",
      "\n",
      "Signif. codes:  0 '***' 0.001 '**' 0.01 '*' 0.05 '.' 0.1 ' ' 1\n",
      "None\n"
     ]
    }
   ],
   "source": [
    "#e.\n",
    "cm = rsm.basics.compare_means({\"nyop\":df}, var1 = 'Condition', var2 = 'Price', alt_hyp = 'two-sided', conf = 0.95, sample_type = 'independent')\n",
    "comparison_summary = cm.summary(extra = True)\n",
    "print(comparison_summary)\n"
   ]
  },
  {
   "cell_type": "markdown",
   "metadata": {},
   "source": [
    "As the p-value is less than 0.001, which is far below the 0.05 significance level, we can reject the null hypothesis.\n",
    "\n",
    "Since the p-value is extremely small (< 0.001), the likelihood of committing a Type I error is very low. \n",
    "\n",
    "We have rejected the null hypothesis,  we are not going to make a Type II error in this scenario.\n",
    "\n"
   ]
  },
  {
   "cell_type": "code",
   "execution_count": 68,
   "metadata": {},
   "outputs": [
    {
     "name": "stdout",
     "output_type": "stream",
     "text": [
      "Analysis for people who purchased 1 picture:\n",
      "T-statistic: -32.7550231572129\n",
      "P-value: 1.0349726619595065e-175\n",
      "The difference in average unit prices for 1 picture is statistically significant.\n",
      "\n"
     ]
    }
   ],
   "source": [
    "#f.\n",
    "one_picture_df = df[df['Number'] == 1]\n",
    "six_pictures_df = df[df['Number'] == 6]\n",
    "\n",
    "nyop_prices_1 = one_picture_df[one_picture_df['Condition'] == 'NYOP']['UnitPrice']\n",
    "charity_prices_1 = one_picture_df[one_picture_df['Condition'] == 'NYOP Charity']['UnitPrice']\n",
    "\n",
    "t_stat_1, p_value_1 = stats.ttest_ind(nyop_prices_1, charity_prices_1, equal_var=False)\n",
    "\n",
    "print(\"Analysis for people who purchased 1 picture:\")\n",
    "print(f\"T-statistic: {t_stat_1}\")\n",
    "print(f\"P-value: {p_value_1}\")\n",
    "if p_value_1 < 0.05:\n",
    "    print(\"The difference in average unit prices for 1 picture is statistically significant.\\n\")\n",
    "else:\n",
    "    print(\"The difference in average unit prices for 1 picture is not statistically significant.\\n\")\n"
   ]
  },
  {
   "cell_type": "code",
   "execution_count": 69,
   "metadata": {},
   "outputs": [
    {
     "name": "stdout",
     "output_type": "stream",
     "text": [
      "Analysis for people who purchased 6 pictures:\n",
      "T-statistic: -1.3830917803702296\n",
      "P-value: 0.2884114566627224\n",
      "The difference in average unit prices for 6 pictures is not statistically significant.\n",
      "\n"
     ]
    }
   ],
   "source": [
    "nyop_prices_6 = six_pictures_df[six_pictures_df['Condition'] == 'NYOP']['UnitPrice']\n",
    "charity_prices_6 = six_pictures_df[six_pictures_df['Condition'] == 'NYOP Charity']['UnitPrice']\n",
    "\n",
    "t_stat_6, p_value_6 = stats.ttest_ind(nyop_prices_6, charity_prices_6, equal_var=False)\n",
    "\n",
    "print(\"Analysis for people who purchased 6 pictures:\")\n",
    "print(f\"T-statistic: {t_stat_6}\")\n",
    "print(f\"P-value: {p_value_6}\")\n",
    "if p_value_6 < 0.05:\n",
    "    print(\"The difference in average unit prices for 6 pictures is statistically significant.\\n\")\n",
    "else:\n",
    "    print(\"The difference in average unit prices for 6 pictures is not statistically significant.\\n\")"
   ]
  },
  {
   "cell_type": "markdown",
   "metadata": {},
   "source": [
    "f. \n",
    "For People Who Purchased 1 Picture:\n",
    "The large difference in mean prices and the extremely low p-value suggest a highly significant effect of the charity condition on the unit price when people are purchasing just 1 picture. Customers are willing to pay considerably more under the NYOP Charity condition, indicating a strong response to the charitable incentive.\n",
    "\n",
    "For People Who Purchased 6 Pictures:\n",
    "Although the mean unit prices show a higher amount under the charity condition, the p-value of 0.288 indicates that this difference is not statistically significant at common significance levels (such as 0.05). This suggests that for customers purchasing in bulk (6 pictures), the charity incentive does not have as strong of an impact on the unit price as it does for those purchasing a single picture.\n",
    "For customers buying 6 pictures, the charity effect is weaker, potentially due to bulk pricing or a diminishing marginal willingness to pay extra for each additional picture."
   ]
  },
  {
   "cell_type": "code",
   "execution_count": 70,
   "metadata": {},
   "outputs": [
    {
     "name": "stdout",
     "output_type": "stream",
     "text": [
      "  Condition Number  Price  UnitPrice\n",
      "0      NYOP      1   1.00       1.00\n",
      "1      NYOP      1   1.00       1.00\n",
      "2      NYOP      1   0.01       0.01\n",
      "3      NYOP      1   0.10       0.10\n",
      "4      NYOP      1   0.01       0.01\n"
     ]
    }
   ],
   "source": [
    "nyop_data = pd.read_csv('NYOP.csv')\n",
    "\n",
    "nyop_data['UnitPrice'] = nyop_data['Price'] / nyop_data['Number']\n",
    "\n",
    "nyop_data['Number'] = nyop_data['Number'].astype('category')\n",
    "\n",
    "print(nyop_data.head())"
   ]
  },
  {
   "cell_type": "code",
   "execution_count": 71,
   "metadata": {},
   "outputs": [
    {
     "name": "stdout",
     "output_type": "stream",
     "text": [
      "T-statistic: -1.3830917803702296\n",
      "P-value: 0.2884114566627223\n",
      "Degrees of freedom: 2.238711549258564\n"
     ]
    }
   ],
   "source": [
    "#g)\n",
    "import numpy as np\n",
    "from scipy import stats\n",
    "\n",
    "six_picture_data = nyop_data[nyop_data['Number'] == 6]\n",
    "\n",
    "mean_nyop = np.mean(six_picture_data[six_picture_data['Condition'] == 'NYOP']['UnitPrice'])\n",
    "mean_charity = np.mean(six_picture_data[six_picture_data['Condition'] == 'NYOP Charity']['UnitPrice'])\n",
    "\n",
    "var_nyop = np.var(six_picture_data[six_picture_data['Condition'] == 'NYOP']['UnitPrice'], ddof=1)\n",
    "var_charity = np.var(six_picture_data[six_picture_data['Condition'] == 'NYOP Charity']['UnitPrice'], ddof=1)\n",
    "\n",
    "n_nyop = len(six_picture_data[six_picture_data['Condition'] == 'NYOP'])\n",
    "n_charity = len(six_picture_data[six_picture_data['Condition'] == 'NYOP Charity'])\n",
    "\n",
    "se_nyop = var_nyop / n_nyop\n",
    "se_charity = var_charity / n_charity\n",
    "\n",
    "se_pooled = np.sqrt(se_nyop + se_charity)\n",
    "\n",
    "t_stat = (mean_nyop - mean_charity) / se_pooled\n",
    "\n",
    "df = ((se_nyop + se_charity) ** 2) / (((se_nyop ** 2) / (n_nyop - 1)) + ((se_charity ** 2) / (n_charity - 1)))\n",
    "\n",
    "p_value = 2 * (1 - stats.t.cdf(np.abs(t_stat), df))\n",
    "\n",
    "print(f\"T-statistic: {t_stat}\")\n",
    "print(f\"P-value: {p_value}\")\n",
    "print(f\"Degrees of freedom: {df}\")"
   ]
  },
  {
   "cell_type": "markdown",
   "metadata": {},
   "source": [
    "g) The Python computation of the t-test using scipy.stats.ttest_ind() follows the exact same statistical principles as the manual calculation. As long as there are no rounding errors or discrepancies in the data used, the manual calculation should yield a similar t-statistic."
   ]
  },
  {
   "cell_type": "markdown",
   "metadata": {},
   "source": [
    "## Economics"
   ]
  },
  {
   "cell_type": "code",
   "execution_count": 72,
   "metadata": {},
   "outputs": [
    {
     "data": {
      "text/html": [
       "<div>\n",
       "<style scoped>\n",
       "    .dataframe tbody tr th:only-of-type {\n",
       "        vertical-align: middle;\n",
       "    }\n",
       "\n",
       "    .dataframe tbody tr th {\n",
       "        vertical-align: top;\n",
       "    }\n",
       "\n",
       "    .dataframe thead th {\n",
       "        text-align: right;\n",
       "    }\n",
       "</style>\n",
       "<table border=\"1\" class=\"dataframe\">\n",
       "  <thead>\n",
       "    <tr style=\"text-align: right;\">\n",
       "      <th></th>\n",
       "      <th>Condition</th>\n",
       "      <th>NumberSold</th>\n",
       "      <th>Riders</th>\n",
       "      <th>MerchandiseRevenues</th>\n",
       "    </tr>\n",
       "  </thead>\n",
       "  <tbody>\n",
       "    <tr>\n",
       "      <th>0</th>\n",
       "      <td>FR</td>\n",
       "      <td>77</td>\n",
       "      <td>12663</td>\n",
       "      <td>4592.41</td>\n",
       "    </tr>\n",
       "    <tr>\n",
       "      <th>1</th>\n",
       "      <td>FR</td>\n",
       "      <td>63</td>\n",
       "      <td>15561</td>\n",
       "      <td>6688.57</td>\n",
       "    </tr>\n",
       "    <tr>\n",
       "      <th>2</th>\n",
       "      <td>FR Charity</td>\n",
       "      <td>79</td>\n",
       "      <td>14796</td>\n",
       "      <td>6476.78</td>\n",
       "    </tr>\n",
       "    <tr>\n",
       "      <th>3</th>\n",
       "      <td>FR Charity</td>\n",
       "      <td>101</td>\n",
       "      <td>15796</td>\n",
       "      <td>5845.94</td>\n",
       "    </tr>\n",
       "    <tr>\n",
       "      <th>4</th>\n",
       "      <td>NYOP</td>\n",
       "      <td>1137</td>\n",
       "      <td>14077</td>\n",
       "      <td>4845.27</td>\n",
       "    </tr>\n",
       "  </tbody>\n",
       "</table>\n",
       "</div>"
      ],
      "text/plain": [
       "    Condition  NumberSold  Riders  MerchandiseRevenues\n",
       "0          FR          77   12663              4592.41\n",
       "1          FR          63   15561              6688.57\n",
       "2  FR Charity          79   14796              6476.78\n",
       "3  FR Charity         101   15796              5845.94\n",
       "4        NYOP        1137   14077              4845.27"
      ]
     },
     "execution_count": 72,
     "metadata": {},
     "output_type": "execute_result"
    }
   ],
   "source": [
    "import pandas as pd\n",
    "\n",
    "# Load the CSV files into DataFrames\n",
    "nyop_df = pd.read_csv('NYOP.csv')\n",
    "sales_df = pd.read_csv('Sales.csv')\n",
    "\n",
    "# Display the first few rows of each DataFrame\n",
    "sales_df.head()"
   ]
  },
  {
   "cell_type": "code",
   "execution_count": 73,
   "metadata": {},
   "outputs": [
    {
     "name": "stdout",
     "output_type": "stream",
     "text": [
      "      Condition  NumberSold   Riders  MerchandiseRevenues  TotalRevenue  \\\n",
      "0            FR         140  14112.0              5640.49       1813.00   \n",
      "1    FR Charity         180  15296.0              6161.36       2331.00   \n",
      "2          NYOP        2370  14131.5              5941.95       2175.80   \n",
      "3  NYOP Charity        1793  14695.0              6750.50       9616.31   \n",
      "\n",
      "   TotalCost   Profit  AverageDailyProfit  \n",
      "0      168.0  1645.00          822.500000  \n",
      "1      216.0  2115.00         1057.500000  \n",
      "2     2844.0  -668.20         -334.100000  \n",
      "3     2151.6  7464.71         2488.236667  \n"
     ]
    }
   ],
   "source": [
    "import pandas as pd\n",
    "\n",
    "# Cost and price per unit\n",
    "unit_cost = 1.20\n",
    "flat_price = 12.95\n",
    "\n",
    "\n",
    "grouped_sales = sales_df.groupby('Condition').agg({\n",
    "    'NumberSold': 'sum',\n",
    "    'Riders': 'mean',\n",
    "    'MerchandiseRevenues': 'mean'\n",
    "}).reset_index()\n",
    "\n",
    "grouped_sales['NumberDay'] = sales_df.groupby('Condition')['Condition'].count().values\n",
    "\n",
    "grouped_nyop = nyop_df.groupby('Condition')['Price'].sum().reset_index()\n",
    "\n",
    "grouped_sales = pd.merge(grouped_sales, grouped_nyop, on='Condition', how='left')\n",
    "\n",
    "grouped_sales['TotalRevenue'] = grouped_sales.apply(\n",
    "    lambda row: row['NumberSold'] * flat_price if 'FR' in row['Condition'] else row['Price'],\n",
    "    axis=1\n",
    ")\n",
    "\n",
    "grouped_sales['TotalCost'] = grouped_sales['NumberSold'] * unit_cost\n",
    "\n",
    "grouped_sales['Profit'] = grouped_sales['TotalRevenue'] - grouped_sales['TotalCost']\n",
    "\n",
    "grouped_sales['AverageDailyProfit'] = grouped_sales['Profit'] / grouped_sales['NumberDay']\n",
    "\n",
    "print(grouped_sales[['Condition', 'NumberSold', 'Riders', 'MerchandiseRevenues', 'TotalRevenue', 'TotalCost', 'Profit', 'AverageDailyProfit']])"
   ]
  },
  {
   "cell_type": "code",
   "execution_count": 74,
   "metadata": {},
   "outputs": [
    {
     "name": "stdout",
     "output_type": "stream",
     "text": [
      "Condition\n",
      "NYOP Charity    7464.71\n",
      "FR Charity      2115.00\n",
      "FR              1645.00\n",
      "NYOP            -668.20\n",
      "Name: Profit, dtype: float64\n"
     ]
    }
   ],
   "source": [
    "total_profit = grouped_sales.groupby('Condition')['Profit'].sum().sort_values(ascending=False)\n",
    "\n",
    "print(total_profit)"
   ]
  },
  {
   "cell_type": "markdown",
   "metadata": {},
   "source": [
    "The most profitable strategy is FR. The ranking is 1. NYOP Charity , 2. FR Charity, 3. FR, and 4. NYOP"
   ]
  },
  {
   "cell_type": "markdown",
   "metadata": {},
   "source": [
    "Question c"
   ]
  },
  {
   "cell_type": "code",
   "execution_count": 75,
   "metadata": {},
   "outputs": [
    {
     "name": "stdout",
     "output_type": "stream",
     "text": [
      "              CharityDonation  ThemeParkEarnings  TotalSocietalProfits\n",
      "Condition                                                             \n",
      "NYOP Charity         10125.75           10125.75              20251.50\n",
      "FR Charity            6161.36            6161.36              12322.72\n"
     ]
    }
   ],
   "source": [
    "import pandas as pd\n",
    "\n",
    "charity_conditions = sales_df[sales_df['Condition'].isin(['FR Charity', 'NYOP Charity'])].copy()\n",
    "\n",
    "charity_conditions.loc[:, 'CharityDonation'] = charity_conditions['MerchandiseRevenues'] * 0.5\n",
    "\n",
    "charity_conditions.loc[:, 'ThemeParkEarnings'] = charity_conditions['MerchandiseRevenues'] * 0.5\n",
    "\n",
    "charity_conditions.loc[:, 'TotalSocietalProfits'] = charity_conditions['CharityDonation'] + charity_conditions['ThemeParkEarnings']\n",
    "\n",
    "total_societal_profits = charity_conditions.groupby('Condition')[['CharityDonation', 'ThemeParkEarnings', 'TotalSocietalProfits']].sum()\n",
    "\n",
    "ranked_societal_profits = total_societal_profits.sort_values(by='TotalSocietalProfits', ascending=False)\n",
    "\n",
    "print(ranked_societal_profits)"
   ]
  },
  {
   "cell_type": "markdown",
   "metadata": {},
   "source": [
    "Question d"
   ]
  },
  {
   "cell_type": "code",
   "execution_count": 76,
   "metadata": {},
   "outputs": [
    {
     "name": "stdout",
     "output_type": "stream",
     "text": [
      "              CharityEarnings  ThemeParkEarnings\n",
      "Condition                                       \n",
      "FR Charity         1124448.20         1124448.20\n",
      "NYOP Charity       1231966.25         1231966.25\n"
     ]
    }
   ],
   "source": [
    "import pandas as pd\n",
    "\n",
    "def calculate_average_charity_park_earnings(sales_df):\n",
    "    sales_df['CharityEarnings'] = sales_df.apply(\n",
    "        lambda row: row['MerchandiseRevenues'] * 0.5 if 'Charity' in row['Condition'] else 0,\n",
    "        axis=1\n",
    "    )\n",
    "    \n",
    "    sales_df['ThemeParkEarnings'] = sales_df.apply(\n",
    "        lambda row: row['MerchandiseRevenues'] * 0.5 if 'Charity' in row['Condition'] else row['MerchandiseRevenues'],\n",
    "        axis=1\n",
    "    )\n",
    "    \n",
    "    charity_df = sales_df[sales_df['Condition'].isin(['FR Charity', 'NYOP Charity'])]\n",
    "\n",
    "    total_earnings = charity_df.groupby('Condition')[['CharityEarnings', 'ThemeParkEarnings']].sum()\n",
    "\n",
    "    condition_counts = charity_df['Condition'].value_counts()\n",
    "\n",
    "    average_daily_earnings = total_earnings.div(condition_counts, axis=0)\n",
    "\n",
    "    yearround_earnings = average_daily_earnings * 365\n",
    "\n",
    "    return yearround_earnings\n",
    "\n",
    "yearround_earnings = calculate_average_charity_park_earnings(sales_df)\n",
    "\n",
    "print(yearround_earnings)"
   ]
  },
  {
   "cell_type": "markdown",
   "metadata": {},
   "source": [
    "e. Are merchandise sales a concern?"
   ]
  },
  {
   "cell_type": "code",
   "execution_count": 77,
   "metadata": {},
   "outputs": [
    {
     "name": "stdout",
     "output_type": "stream",
     "text": [
      "FR vs FR Charity: t-statistic = -0.48, p-value = 0.707\n",
      "FR vs NYOP: t-statistic = -0.20, p-value = 0.861\n",
      "FR vs NYOP Charity: t-statistic = -0.80, p-value = 0.495\n",
      "FR Charity vs NYOP: t-statistic = 0.19, p-value = 0.876\n",
      "FR Charity vs NYOP Charity: t-statistic = -0.61, p-value = 0.592\n",
      "NYOP vs NYOP Charity: t-statistic = -0.57, p-value = 0.621\n"
     ]
    }
   ],
   "source": [
    "import pandas as pd\n",
    "from scipy import stats\n",
    "\n",
    "# Assuming you have a DataFrame 'sales_df' with the columns: Condition, NumberSold, Riders, MerchandiseRevenues\n",
    "\n",
    "# Step 1: Split the data into different conditions\n",
    "fr = sales_df[sales_df['Condition'] == 'FR']['MerchandiseRevenues']\n",
    "fr_charity = sales_df[sales_df['Condition'] == 'FR Charity']['MerchandiseRevenues']\n",
    "nyop = sales_df[sales_df['Condition'] == 'NYOP']['MerchandiseRevenues']\n",
    "nyop_charity = sales_df[sales_df['Condition'] == 'NYOP Charity']['MerchandiseRevenues']\n",
    "\n",
    "# Step 2: Perform pairwise t-tests for comparing means\n",
    "results = {}\n",
    "\n",
    "# FR vs FR Charity\n",
    "t_stat, p_value = stats.ttest_ind(fr, fr_charity, equal_var=False)\n",
    "results['FR vs FR Charity'] = (t_stat, p_value)\n",
    "\n",
    "# FR vs NYOP\n",
    "t_stat, p_value = stats.ttest_ind(fr, nyop, equal_var=False)\n",
    "results['FR vs NYOP'] = (t_stat, p_value)\n",
    "\n",
    "# FR vs NYOP Charity\n",
    "t_stat, p_value = stats.ttest_ind(fr, nyop_charity, equal_var=False)\n",
    "results['FR vs NYOP Charity'] = (t_stat, p_value)\n",
    "\n",
    "# FR Charity vs NYOP\n",
    "t_stat, p_value = stats.ttest_ind(fr_charity, nyop, equal_var=False)\n",
    "results['FR Charity vs NYOP'] = (t_stat, p_value)\n",
    "\n",
    "# FR Charity vs NYOP Charity\n",
    "t_stat, p_value = stats.ttest_ind(fr_charity, nyop_charity, equal_var=False)\n",
    "results['FR Charity vs NYOP Charity'] = (t_stat, p_value)\n",
    "\n",
    "# NYOP vs NYOP Charity\n",
    "t_stat, p_value = stats.ttest_ind(nyop, nyop_charity, equal_var=False)\n",
    "results['NYOP vs NYOP Charity'] = (t_stat, p_value)\n",
    "\n",
    "# Step 3: Print the results\n",
    "for comparison, (t_stat, p_value) in results.items():\n",
    "    print(f\"{comparison}: t-statistic = {t_stat:.2f}, p-value = {p_value:.3f}\")\n"
   ]
  },
  {
   "cell_type": "markdown",
   "metadata": {},
   "source": [
    "From the tests, none of the comparisons show statistically significant differences in merchandise revenues between any of the pricing strategies. All of these strategies are relatively stable, meaning merchandise sales are not a concern."
   ]
  }
 ],
 "metadata": {
  "kernelspec": {
   "display_name": "my_env",
   "language": "python",
   "name": "python3"
  },
  "language_info": {
   "codemirror_mode": {
    "name": "ipython",
    "version": 3
   },
   "file_extension": ".py",
   "mimetype": "text/x-python",
   "name": "python",
   "nbconvert_exporter": "python",
   "pygments_lexer": "ipython3",
   "version": "3.11.9"
  }
 },
 "nbformat": 4,
 "nbformat_minor": 2
}
